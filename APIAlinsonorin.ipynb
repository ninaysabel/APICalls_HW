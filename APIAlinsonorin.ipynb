{
 "cells": [
  {
   "cell_type": "code",
   "execution_count": 2,
   "id": "7a8ee177-0a53-40a4-b31d-53771e80bb4d",
   "metadata": {
    "tags": []
   },
   "outputs": [],
   "source": [
    "import json\n",
    "import pandas as pd\n",
    "import json\n",
    "import requests"
   ]
  },
  {
   "cell_type": "code",
   "execution_count": 7,
   "id": "343a634f-a016-49a9-9e92-5f7029efcb74",
   "metadata": {},
   "outputs": [
    {
     "name": "stdin",
     "output_type": "stream",
     "text": [
      " AAPL\n"
     ]
    }
   ],
   "source": [
    "#get stock from the user\n",
    "stock=input()"
   ]
  },
  {
   "cell_type": "code",
   "execution_count": 8,
   "id": "8075e56a-0f47-4f85-86af-636c84b6f9ea",
   "metadata": {},
   "outputs": [
    {
     "name": "stdout",
     "output_type": "stream",
     "text": [
      "The Stock we will research is:AAPL\n"
     ]
    }
   ],
   "source": [
    "print(\"The Stock we will research is:\" + stock)"
   ]
  },
  {
   "cell_type": "code",
   "execution_count": 9,
   "id": "179a2e84-fe2b-4945-980b-8353ba3fd0fd",
   "metadata": {},
   "outputs": [
    {
     "name": "stdout",
     "output_type": "stream",
     "text": [
      "{\"quoteResponse\":{\"result\":[{\"language\":\"en-US\",\"region\":\"US\",\"quoteType\":\"EQUITY\",\"typeDisp\":\"Equity\",\"quoteSourceName\":\"Nasdaq Real Time Price\",\"triggerable\":true,\"customPriceAlertConfidence\":\"HIGH\",\"currency\":\"USD\",\"regularMarketChangePercent\":-0.34477726,\"regularMarketPrice\":147.41,\"exchange\":\"NMS\",\"shortName\":\"Apple Inc.\",\"longName\":\"Apple Inc.\",\"messageBoardId\":\"finmb_24937\",\"exchangeTimezoneName\":\"America/New_York\",\"exchangeTimezoneShortName\":\"EST\",\"gmtOffSetMilliseconds\":-18000000,\"marketState\":\"POSTPOST\",\"market\":\"us_market\",\"esgPopulated\":false,\"postMarketChangePercent\":-0.32563,\"postMarketTime\":1677632398,\"postMarketPrice\":146.93,\"postMarketChange\":-0.480011,\"regularMarketChange\":-0.5099945,\"regularMarketTime\":1677618005,\"regularMarketDayHigh\":149.075,\"regularMarketDayRange\":\"146.87 - 149.075\",\"regularMarketDayLow\":146.87,\"regularMarketVolume\":50145937,\"regularMarketPreviousClose\":147.92,\"bid\":147.05,\"ask\":147.25,\"bidSize\":8,\"askSize\":8,\"fullExchangeName\":\"NasdaqGS\",\"financialCurrency\":\"USD\",\"regularMarketOpen\":147.05,\"averageDailyVolume3Month\":74926244,\"averageDailyVolume10Day\":57548060,\"fiftyTwoWeekLowChange\":23.240005,\"fiftyTwoWeekLowChangePercent\":0.1871628,\"fiftyTwoWeekRange\":\"124.17 - 179.61\",\"fiftyTwoWeekHighChange\":-32.199997,\"fiftyTwoWeekHighChangePercent\":-0.1792773,\"fiftyTwoWeekLow\":124.17,\"fiftyTwoWeekHigh\":179.61,\"dividendDate\":1676505600,\"tradeable\":false,\"cryptoTradeable\":false,\"earningsTimestamp\":1675375200,\"earningsTimestampStart\":1682506740,\"earningsTimestampEnd\":1682942400,\"trailingAnnualDividendRate\":0.91,\"trailingPE\":25.027166,\"trailingAnnualDividendYield\":0.006151974,\"epsTrailingTwelveMonths\":5.89,\"epsForward\":6.58,\"epsCurrentYear\":5.97,\"priceEpsCurrentYear\":24.691793,\"sharesOutstanding\":15821899776,\"bookValue\":3.581,\"fiftyDayAverage\":140.6122,\"fiftyDayAverageChange\":6.797806,\"fiftyDayAverageChangePercent\":0.048344355,\"twoHundredDayAverage\":147.16765,\"twoHundredDayAverageChange\":0.24235535,\"twoHundredDayAverageChangePercent\":0.0016467978,\"marketCap\":2332306178048,\"forwardPE\":22.402737,\"priceToBook\":41.16448,\"sourceInterval\":15,\"exchangeDataDelayedBy\":0,\"averageAnalystRating\":\"2.0 - Buy\",\"firstTradeDateMilliseconds\":345479400000,\"priceHint\":2,\"displayName\":\"Apple\",\"symbol\":\"AAPL\"}],\"error\":null}}\n",
      "{\"quoteSummary\":{\"result\":[{\"financialData\":{\"maxAge\":86400,\"currentPrice\":{\"raw\":147.41,\"fmt\":\"147.41\"},\"targetHighPrice\":{\"raw\":195.0,\"fmt\":\"195.00\"},\"targetLowPrice\":{\"raw\":118.0,\"fmt\":\"118.00\"},\"targetMeanPrice\":{\"raw\":168.21,\"fmt\":\"168.21\"},\"targetMedianPrice\":{\"raw\":172.5,\"fmt\":\"172.50\"},\"recommendationMean\":{\"raw\":2.0,\"fmt\":\"2.00\"},\"recommendationKey\":\"buy\",\"numberOfAnalystOpinions\":{\"raw\":38,\"fmt\":\"38\",\"longFmt\":\"38\"},\"totalCash\":{\"raw\":51355000832,\"fmt\":\"51.36B\",\"longFmt\":\"51,355,000,832\"},\"totalCashPerShare\":{\"raw\":3.246,\"fmt\":\"3.25\"},\"ebitda\":{\"raw\":125287997440,\"fmt\":\"125.29B\",\"longFmt\":\"125,287,997,440\"},\"totalDebt\":{\"raw\":111109996544,\"fmt\":\"111.11B\",\"longFmt\":\"111,109,996,544\"},\"quickRatio\":{\"raw\":0.769,\"fmt\":\"0.77\"},\"currentRatio\":{\"raw\":0.938,\"fmt\":\"0.94\"},\"totalRevenue\":{\"raw\":387537010688,\"fmt\":\"387.54B\",\"longFmt\":\"387,537,010,688\"},\"debtToEquity\":{\"raw\":195.868,\"fmt\":\"195.87\"},\"revenuePerShare\":{\"raw\":24.084,\"fmt\":\"24.08\"},\"returnOnAssets\":{\"raw\":0.19569999,\"fmt\":\"19.57%\"},\"returnOnEquity\":{\"raw\":1.47943,\"fmt\":\"147.94%\"},\"grossProfits\":{\"raw\":170782000000,\"fmt\":\"170.78B\",\"longFmt\":\"170,782,000,000\"},\"freeCashflow\":{\"raw\":84729126912,\"fmt\":\"84.73B\",\"longFmt\":\"84,729,126,912\"},\"operatingCashflow\":{\"raw\":109189996544,\"fmt\":\"109.19B\",\"longFmt\":\"109,189,996,544\"},\"earningsGrowth\":{\"raw\":-0.105,\"fmt\":\"-10.50%\"},\"revenueGrowth\":{\"raw\":-0.055,\"fmt\":\"-5.50%\"},\"grossMargins\":{\"raw\":0.43058997,\"fmt\":\"43.06%\"},\"ebitdaMargins\":{\"raw\":0.32329,\"fmt\":\"32.33%\"},\"operatingMargins\":{\"raw\":0.29408002,\"fmt\":\"29.41%\"},\"profitMargins\":{\"raw\":0.24558,\"fmt\":\"24.56%\"},\"financialCurrency\":\"USD\"}}],\"error\":null}}\n"
     ]
    }
   ],
   "source": [
    "apikey= \"9v4AkOXBW44OysdfoiFhR3Kaz8AGXW5n6n0RIAFa\"\n",
    "\n",
    "url = \"https://yfapi.net/v6/finance/quote\"\n",
    "url2 = \"https://yfapi.net/v11/finance/quoteSummary/{}\".format(stock)\n",
    "\n",
    "querystring = {\"symbols\":stock}\n",
    "module = \"financialData\"\n",
    "querystring2 = { \"modules\": module }\n",
    "\n",
    "headers = {\n",
    "    'x-api-key': apikey\n",
    "    }\n",
    "\n",
    "response = requests.request(\"GET\", url, headers=headers, params=querystring)\n",
    "response2 = requests.request(\"GET\", url2, headers=headers, params=querystring2)\n",
    "\n",
    "print(response.text)\n",
    "print(response2.text)"
   ]
  },
  {
   "cell_type": "code",
   "execution_count": 11,
   "id": "1853fef4-b0d7-4031-8432-a573d02140ea",
   "metadata": {},
   "outputs": [
    {
     "name": "stdout",
     "output_type": "stream",
     "text": [
      "        ticker   name current_price target_mean_price   free_cashflow  \\\n",
      "raw       AAPL  Apple        147.41            168.21     84729126912   \n",
      "fmt       AAPL  Apple        147.41            168.21          84.73B   \n",
      "longFmt   AAPL  Apple           NaN               NaN  84,729,126,912   \n",
      "\n",
      "        profit_margins  \n",
      "raw            0.24558  \n",
      "fmt             24.56%  \n",
      "longFmt            NaN  \n",
      "Name Ticker: AAPLFull Name: Apple\n",
      "{'raw': 147.41, 'fmt': '147.41'}\n",
      "{'raw': 168.21, 'fmt': '168.21'}\n",
      "{'raw': 84729126912, 'fmt': '84.73B', 'longFmt': '84,729,126,912'}\n",
      "{'raw': 0.24558, 'fmt': '24.56%'}\n"
     ]
    }
   ],
   "source": [
    "stock_json = response.json()\n",
    "stock_json2 = response2.json()\n",
    "\n",
    "if response.status_code == 404:\n",
    "    print(f\"Error: Stock Symbol {stock} is not valid.\")\n",
    "elif response.status_code == 200:\n",
    "    stock_json = response.json()\n",
    "    if stock_json['quoteResponse']['result'] == []:\n",
    "          print(f\"Error: Stock symbol {stock} is not valid.\")\n",
    "    else: \n",
    "          ticker = stock_json['quoteResponse']['result'][0][\"symbol\"]\n",
    "          name = stock_json['quoteResponse']['result'][0][\"displayName\"]\n",
    "          price = stock_json2['quoteSummary']['result'][0][\"financialData\"][\"currentPrice\"]\n",
    "          target = stock_json2['quoteSummary']['result'][0][\"financialData\"][\"targetMeanPrice\"]\n",
    "          cashFlow = stock_json2['quoteSummary']['result'][0][\"financialData\"][\"freeCashflow\"]\n",
    "          profit = stock_json2['quoteSummary']['result'][0][\"financialData\"][\"profitMargins\"]\n",
    "          \n",
    "          stock_data = {\n",
    "              \"ticker\": ticker, \n",
    "              \"name\": name, \n",
    "              \"current_price\": price, \n",
    "              \"target_mean_price\": target, \n",
    "              \"free_cashflow\": cashFlow, \n",
    "              \"profit_margins\": profit, \n",
    "          }\n",
    "          df = pd.DataFrame.from_dict(stock_data)\n",
    "          print(df)\n",
    "          \n",
    "          print(\"Name Ticker: \" + ticker + \"Full Name: \"+ name)\n",
    "          print(price)\n",
    "          print(target)\n",
    "          print(cashFlow)\n",
    "          print(profit)\n",
    "\n",
    "else: \n",
    "    print(\"Error: Failed to retrieve stock information.\")\n",
    "          "
   ]
  },
  {
   "cell_type": "code",
   "execution_count": null,
   "id": "52246399-4b55-435a-a365-446a8aa7d373",
   "metadata": {},
   "outputs": [],
   "source": []
  }
 ],
 "metadata": {
  "kernelspec": {
   "display_name": "Python 3 (ipykernel)",
   "language": "python",
   "name": "python3"
  },
  "language_info": {
   "codemirror_mode": {
    "name": "ipython",
    "version": 3
   },
   "file_extension": ".py",
   "mimetype": "text/x-python",
   "name": "python",
   "nbconvert_exporter": "python",
   "pygments_lexer": "ipython3",
   "version": "3.8.13"
  }
 },
 "nbformat": 4,
 "nbformat_minor": 5
}
